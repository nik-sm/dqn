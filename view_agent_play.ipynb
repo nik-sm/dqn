{
 "cells": [
  {
   "cell_type": "code",
   "execution_count": null,
   "metadata": {},
   "outputs": [],
   "source": [
    "import random\n",
    "import matplotlib.pyplot as plt\n",
    "from pyvirtualdisplay import Display\n",
    "display = Display(visible=0, size=(1400, 900))\n",
    "display.start()\n",
    "is_ipython = 'inline' in plt.get_backend()\n",
    "if is_ipython:\n",
    "    from IPython import display\n",
    "import torch\n",
    "from time import sleep\n",
    "plt.ion()\n",
    "\n",
    "# Load the gym environment\n",
    "\n",
    "import gym\n",
    "from train import parse_args, Agent\n",
    "%matplotlib inline\n",
    "\n",
    "# load agent and env\n",
    "\n",
    "args = parse_args([])\n",
    "agent = Agent(\n",
    "    game=args.game,\n",
    "    replay_buffer_capacity=args.replay_buffer_capacity,\n",
    "    replay_start_size=args.batch_size, # Minimum possible for agent.__init__()\n",
    "    batch_size=args.batch_size,\n",
    "    discount_factor=args.discount_factor,\n",
    "    lr=args.lr,\n",
    ")\n",
    "agent.policy_net.load_state_dict(torch.load(args.save_path))\n",
    "agent.policy_net.eval()"
   ]
  },
  {
   "cell_type": "code",
   "execution_count": null,
   "metadata": {},
   "outputs": [],
   "source": [
    "# Showing the \"true\" frames\n",
    "img = plt.imshow(agent.env.render(mode='rgb_array'))\n",
    "while True:\n",
    "    for j in range(2000):\n",
    "        img.set_data(agent.env.render(mode='rgb_array')) \n",
    "        plt.axis('off')\n",
    "        display.display(plt.gcf())\n",
    "        display.clear_output(wait=True)\n",
    "        reward, q_values, done = agent.step(0.)    \n",
    "        if done:\n",
    "            break \n",
    "    sleep(1)"
   ]
  },
  {
   "cell_type": "code",
   "execution_count": null,
   "metadata": {},
   "outputs": [],
   "source": [
    "# Showing  \"preprocessed\" frames\n",
    "while True:\n",
    "    img = plt.imshow(agent.state[0])\n",
    "    for j in range(2000):\n",
    "        img.set_data(agent.state[0]) \n",
    "        plt.axis('off')\n",
    "        display.display(plt.gcf())\n",
    "        display.clear_output(wait=True)\n",
    "        reward, done = agent.step(0.)    \n",
    "        if done:\n",
    "            break \n",
    "    sleep(1)"
   ]
  }
 ],
 "metadata": {
  "kernelspec": {
   "display_name": "Python 3",
   "language": "python",
   "name": "python3"
  },
  "language_info": {
   "codemirror_mode": {
    "name": "ipython",
    "version": 3
   },
   "file_extension": ".py",
   "mimetype": "text/x-python",
   "name": "python",
   "nbconvert_exporter": "python",
   "pygments_lexer": "ipython3",
   "version": "3.7.5"
  }
 },
 "nbformat": 4,
 "nbformat_minor": 4
}
